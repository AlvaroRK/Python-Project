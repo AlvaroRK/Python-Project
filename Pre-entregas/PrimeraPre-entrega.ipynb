{
 "cells": [
  {
   "cell_type": "code",
   "execution_count": 30,
   "metadata": {},
   "outputs": [],
   "source": [
    "# Se crea la base de datos\n",
    "DB = {}"
   ]
  },
  {
   "cell_type": "code",
   "execution_count": 37,
   "metadata": {},
   "outputs": [],
   "source": [
    "# Creamos la funcion de register\n",
    "def register():\n",
    "  name = input(\"Ingrese su nombre de usuario: \")\n",
    "  password = input(\"Ingrese su contraseña: \")\n",
    "  if password.lower() == name.lower():\n",
    "    print(\"Error: tu contraseña no puede ser igual a tu nombre\")\n",
    "  else:\n",
    "    DB.update({name: password})\n",
    "\n",
    "#register()"
   ]
  },
  {
   "cell_type": "code",
   "execution_count": 32,
   "metadata": {},
   "outputs": [],
   "source": [
    "# Creamos la funcion para leer los registers\n",
    "def readData(DB):\n",
    "  for key,value in zip(DB,DB.values()):\n",
    "    print(f\"Tu nombre es: {key} y tu contraseña es: {value}\")\n",
    "\n",
    "#readData(DB)"
   ]
  },
  {
   "cell_type": "code",
   "execution_count": 33,
   "metadata": {},
   "outputs": [],
   "source": [
    "# Guardamos la data en un archivo .txt\n",
    "def saveData(DB):\n",
    "    rute = 'D:/programación/CursosPy/CoderHouse Python/actividades'\n",
    "    with open(rute+'/mostrarDatos.txt','w', encoding=\"UTF-8\") as file:\n",
    "        for key,value in zip(DB,DB.values()):\n",
    "            clients = [f\"{key}: {value}\\n\"]\n",
    "            file.writelines(clients)\n",
    "\n",
    "#saveData(DB)"
   ]
  },
  {
   "cell_type": "code",
   "execution_count": 34,
   "metadata": {},
   "outputs": [],
   "source": [
    "# Hacemos un sistema de login en base a los usuarios que esten registrados\n",
    "def login(DB):\n",
    "    nameLogin = input(\"Ingrese su nombre de usuario: \")\n",
    "    passwordLogin = input(\"Ingrese su contraseña: \")\n",
    "\n",
    "    try:\n",
    "        if nameLogin and passwordLogin == DB[nameLogin]:\n",
    "            print(f\"Usuario y contraseña correctos\\nBienvenido {nameLogin}\")\n",
    "        else:\n",
    "            print(\"Error: tu contraseña es incorrecta\")\n",
    "    except:\n",
    "        print(\"Error: no existe el usuario\")\n",
    "\n",
    "#login(DB)"
   ]
  },
  {
   "cell_type": "code",
   "execution_count": 42,
   "metadata": {},
   "outputs": [],
   "source": [
    "register()"
   ]
  },
  {
   "cell_type": "code",
   "execution_count": 43,
   "metadata": {},
   "outputs": [
    {
     "name": "stdout",
     "output_type": "stream",
     "text": [
      "Tu nombre es: user1 y tu contraseña es: contra\n",
      "Tu nombre es: User y tu contraseña es: user\n"
     ]
    }
   ],
   "source": [
    "readData(DB)"
   ]
  }
 ],
 "metadata": {
  "kernelspec": {
   "display_name": "Python 3",
   "language": "python",
   "name": "python3"
  },
  "language_info": {
   "codemirror_mode": {
    "name": "ipython",
    "version": 3
   },
   "file_extension": ".py",
   "mimetype": "text/x-python",
   "name": "python",
   "nbconvert_exporter": "python",
   "pygments_lexer": "ipython3",
   "version": "3.11.1"
  },
  "orig_nbformat": 4
 },
 "nbformat": 4,
 "nbformat_minor": 2
}
